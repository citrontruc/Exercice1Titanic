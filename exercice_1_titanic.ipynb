{
 "cells": [
  {
   "cell_type": "markdown",
   "metadata": {},
   "source": [
    "# Le titanic : aurait-on pu prévoir à l'avance qui allait survivre ?\n",
    "---\n",
    "\n",
    "## But du notebook\n",
    "\n",
    "Dans ce Notebook, nous allons faire l'étude du tristement célèbre jeu de données [des passagers du titanic](https://www.kaggle.com/c/titanic).\n",
    "\n",
    "A partir d'un descriptif des passagers au moment où ils sont montés à bord, est-il possible de prédire qui allait s'en sortir ?\n",
    "\n",
    "---\n",
    "\n",
    "## Information\n",
    "\n",
    "Le but de ce Notebook est d'étudier les données. On va utiliser pour cela quelques bibliothèques : pandas pour les manipulations de données, numpy pour les opérations mathématiques et plotly pour faire nos graphes. Des bibliothèques alternatives existent pour la visualisation de données (matplotlib, seaborn, bokeh...). numpy et pandas sont par contre des standards dans l'industrie.\n",
    "\n",
    "Pour la Data Science, le standard de l'industrie est scikit-learn (tensorflow ou pytorch pour le deep learning). Nous les utiliserons dès les prochains cours.\n",
    "\n",
    "---\n",
    "\n",
    "## Données \n",
    "\n",
    "Utilisez les données qui sont dans le github. Si jamais vous n'y arrivez pas, vous pouvez récupérer les données en cliquant sur [ce lien](https://www.kaggle.com/c/titanic).\n",
    "\n",
    "**Descriptif des données :**\n",
    "\n",
    "|Variable | Definition |\tKey |\n",
    "|---|---|---|\n",
    "|survival |\tSurvival |\t0 = No, 1 = Yes |\n",
    "|pclass \tTicket class |\t1 = 1st, 2 = 2nd, 3 = 3rd |\n",
    "|sex |\tSex \t| |\n",
    "|Age |\tAge in years | | \t\n",
    "|sibsp |\t# of siblings / spouses aboard the Titanic | \t|\n",
    "|parch |\t# of parents / children aboard the Titanic \t| |\n",
    "|ticket |\tTicket number \t| |\n",
    "|fare |\tPassenger fare \t| |\n",
    "|cabin |\tCabin number \t| |\n",
    "|embarked | \tPort of Embarkation |\tC = Cherbourg, Q = Queenstown, S = Southampton |\n",
    "\n",
    "Variable Notes\n",
    "\n",
    "pclass: A proxy for socio-economic status (SES)\n",
    "1st = Upper\n",
    "2nd = Middle\n",
    "3rd = Lower\n",
    "\n",
    "age: Age is fractional if less than 1. If the age is estimated, is it in the form of xx.5\n",
    "\n",
    "sibsp: The dataset defines family relations in this way...\n",
    "Sibling = brother, sister, stepbrother, stepsister\n",
    "Spouse = husband, wife (mistresses and fiancés were ignored)\n",
    "\n",
    "parch: The dataset defines family relations in this way...\n",
    "Parent = mother, father\n",
    "Child = daughter, son, stepdaughter, stepson\n",
    "Some children travelled only with a nanny, therefore parch=0 for them."
   ]
  },
  {
   "cell_type": "markdown",
   "metadata": {},
   "source": [
    "## Récupération de bibliothèques importantes"
   ]
  },
  {
   "cell_type": "code",
   "execution_count": null,
   "metadata": {},
   "outputs": [],
   "source": [
    "# Les bibliothèques ci-dessous sont conseillées. Vous pouvez en utilisez d'autres si vous préférez.\n",
    "import pandas as pd\n",
    "import numpy as np\n",
    "import plotly.express as px"
   ]
  },
  {
   "cell_type": "markdown",
   "metadata": {},
   "source": [
    "# Etape 1 : Etude de la qualité des données\n",
    "---\n",
    "\n",
    "Chargez le jeu de données d'entraînement dans votre notebook avec la bibliothèque pandas.\n",
    "\n",
    "Commençons par récupérer les données et à étudier leur qualité."
   ]
  },
  {
   "cell_type": "markdown",
   "metadata": {},
   "source": [
    "### Analyse de la qualité\n",
    "\n",
    "1) Chargez les données du fichier \"titanic_custom.csv\" dans votre espace de travail. Quel est le nombre de lignes de notre dataset ?\n",
    "1) Trouvez le nombre de valeurs nulles (None, np.NaN ou autres) pour chacune des colonnes.\n",
    "2) Quelle est le type de chacune des colonnes ?\n",
    "3) Combien y a-t-il des doublons dans la table. Identifiez-les. Qu'est-ce qu'on en fait ?\n",
    "3) Pour chacune des colonnes numériques, calculez la moyenne, la médiane, le min et le max. Ces valeurs semblent-elles logiques ? Enquêtez.\n",
    "3) Pour les colonnes qui sont des strings, lesquelles semblent catégoriques et lesquelles vous semblent de format libre ?\n",
    "5) Combien de personnes ont survécu sur le Titanic dans la vraie vie et combien ont survécu dans notre Dataset ? Est-ce que notre Dataset est représentatif ?\n",
    "6) Débarassez-vous des points de données gênants et enregistrez le nouveau dataframe sous le nom \"titanic_clean.csv\""
   ]
  },
  {
   "cell_type": "markdown",
   "metadata": {},
   "source": [
    "## Qui sont les gens qui sont montés à bord du Titanic ?\n",
    "\n",
    "J'ai entendu dire que les gens qui montaient sur le titanic étaient des vieux mecs aigris, célibataires et plein de thunasse. Essayons de vérifier cette hypothèse.\n",
    "\n",
    "1) Déjà, identifions les gens qui ont eu des billets gratuits. Quel pourcentage du dataset cela représente-t-il ? Avez-vous une explication sur le fait qu'ils aient des billets gratuits ?\n",
    "1) Combien d'hommes / femmes sont montés à bors du Titanic ? Tracez le résultat sur un graphe.\n",
    "2) Combien de passagers ont des conjoints / membres de famille ? Tracez la distribution des passagers en fonction du nombre de membres dans leur famille (conjoints + membres autres)\n",
    "3) Tracez trois graphes : l'un qui indique la distribution des âges des passagers et l'autre qui indique le nombre de personnes sur le titanic par groupes de 5 puis 10 ans. Sur le premier grpahe, mettez une ligne verticale indiquant l'âge moyen sur le graphe. Il faut que les légendes soient lisibles (notamment pour les catégories d'âges). Utiliser le paramètre \"color\" pour montrer combien de personnes sont morts et ont survécu par catégories d'âges.\n",
    "4) Trouvez le plus petit âge X tel qu'au 80 % des passagers ont moins de X ans (pour cette question, on ignorera les valeurs nulles en terme d'âge).\n",
    "5) Combien de femmes mariées avons-nous sur le bâteau ?\n",
    "6) Combien de nobles avons-nous sur notre bâteau ?\n",
    "7) Tracez la distribution du prix du billet pour les trois classes de billets sur le même graphe. Les échelles sont démesurées (et votre figure est sans doute illisible du coup). Appliquez une transformation x => np.log(x+1) au prix du billet et tracez la même figure. Que constatez-vous ?\n",
    "7) A quel arrêt est-ce que les riches ont embarqué ?\n",
    "7) A partir des informations récupérées, que peut-on dire de notre hypothèse sue les vieux mecs aigris ?"
   ]
  },
  {
   "cell_type": "code",
   "execution_count": null,
   "metadata": {},
   "outputs": [],
   "source": []
  },
  {
   "cell_type": "markdown",
   "metadata": {},
   "source": [
    "## Et Léo dans tout ça ?\n",
    "\n",
    "Dans ce Notebook nous allons tenter de résoudre un mystère historique : est-ce que Leonardo Di Caprio aurait survécu s'il avait voyagé sur le Titanic ?\n",
    "\n",
    "1) Quel est le pourcentage de survie pour des hommes et des femmes ? Comment est-ce que ça s'annonce pour Léo et Rose ?\n",
    "3) Etudiez la corrélation entre les variables numériques. Que peut-on dire de plus pour Léo sachant qu'il possède un billet de troisième classe qui coûtait vraiment pas cher ?\n",
    "4) Etudiez le pourcentage de survie en fonction du nombre de frères et soeurs (SibSp). Cette statistiques vous parait-elle pertinente ?\n",
    "4) Créez les colonnes First_class, Second_class et Third_Class en fonction de la classe du billet (colonne Pclass). Etudiez les chances de survie de chacune des catégories.\n",
    "4) Que peut-on dire sur la corrélation entre l'âge et le fait qu'un passsager ait survécu ou pas ? Cela vous étonne-t-il ? Argumentez votre réponse.\n",
    "5) Créez les variables FamilySize = SibSp + Bride et la variable IsAlone = (FamilySize == 0). Tracez le pourcentage de survie en fonction de FamilySize. Qu'est-ce que cela augure pour Léo ?\n",
    "7) Etudiez la répartition des survivants en fonction du port de départ. Séparez les colonnes par port de départ.\n",
    "6) A partir des différentes observations, quels paramètres vous semblent pertinents pour mesurer si quelqu'un a survécu au naufrage du titanic ?\n",
    "7) Léo méritait-il de mourir ?"
   ]
  },
  {
   "cell_type": "code",
   "execution_count": null,
   "metadata": {},
   "outputs": [],
   "source": []
  },
  {
   "cell_type": "markdown",
   "metadata": {},
   "source": [
    "## Un peu de machine Learning (Séance du 22/03)\n",
    "\n",
    "1) Créer un premier arbre de décision en utilisant uniquement le genre, la classe et le prix du billet.\n",
    "1) Pour ce premier arbre de décision, étudiez la précision, le recall et le F1-Score pour les données d'entrainement et de validation.\n",
    "1) Créer en chaîne des arbre de décision en utilisant uniquement le genre, la classe et le prix du billet. (Un arbre pour toutes les valeurs de max_depth = 3 à max_depth = 15). Pour chacun de ces arbres stockez la précision, le recall et le F1-score sur le jeu d'entrainement et le jeu de test. Tracez l'évolution de la précision, du recall et du F1-score en fonction du max_depth. Qu'observez-vous ?\n",
    "2) Remplissez les variables catégoriques manquantes et encodez-les.\n",
    "3) Modifiez les valeurs d'âge et de FamilySize comme vous le voulez.\n",
    "1) Faites une régression logistique pour évaluer la probabilité de survie en fonction des autres paramètres. Calculez la précision, le recall et le F1-score de la solution proposée. Montrez la valeur de tous les coefficients, qu'en pensez-vous au vue de toutes les analyses que vous aviez menés précédemment ?\n",
    "4) Faites un arbre de décision pour évaluer la probabilité de survie en fonction des autres paramètres. Calculez la précision, le recall et le F1-score de la solution proposée. Montrez votre arbre de décision, qu'en pensez-vous au vue de toutes les analyses que vous aviez menés précédemment ?\n",
    "5) Faites un random forest pour évaluer la probabilité de survie en fonction des autres paramètres. Calculez la précision, le recall et le F1-score de la solution proposée."
   ]
  }
 ],
 "metadata": {
  "kernelspec": {
   "display_name": "Python 3",
   "language": "python",
   "name": "python3"
  },
  "language_info": {
   "codemirror_mode": {
    "name": "ipython",
    "version": 3
   },
   "file_extension": ".py",
   "mimetype": "text/x-python",
   "name": "python",
   "nbconvert_exporter": "python",
   "pygments_lexer": "ipython3",
   "version": "3.11.6"
  }
 },
 "nbformat": 4,
 "nbformat_minor": 2
}
